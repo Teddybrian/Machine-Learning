{
 "cells": [
  {
   "cell_type": "code",
   "execution_count": 1,
   "id": "809f00a5-7ef5-4dce-88bb-b738851907ae",
   "metadata": {},
   "outputs": [],
   "source": [
    "#importing libraries\n",
    "import numpy as np\n",
    "import matplotlib.pyplot as plt\n",
    "import pandas as pd\n",
    "import seaborn as sns\n",
    "%matplotlib inline "
   ]
  },
  {
   "cell_type": "code",
   "execution_count": 2,
   "id": "0398ec00-c916-418d-84b6-4e616c86f769",
   "metadata": {},
   "outputs": [
    {
     "data": {
      "text/html": [
       "<div>\n",
       "<style scoped>\n",
       "    .dataframe tbody tr th:only-of-type {\n",
       "        vertical-align: middle;\n",
       "    }\n",
       "\n",
       "    .dataframe tbody tr th {\n",
       "        vertical-align: top;\n",
       "    }\n",
       "\n",
       "    .dataframe thead th {\n",
       "        text-align: right;\n",
       "    }\n",
       "</style>\n",
       "<table border=\"1\" class=\"dataframe\">\n",
       "  <thead>\n",
       "    <tr style=\"text-align: right;\">\n",
       "      <th></th>\n",
       "      <th>age</th>\n",
       "      <th>sex</th>\n",
       "      <th>bmi</th>\n",
       "      <th>children</th>\n",
       "      <th>smoker</th>\n",
       "      <th>region</th>\n",
       "      <th>charges</th>\n",
       "    </tr>\n",
       "  </thead>\n",
       "  <tbody>\n",
       "    <tr>\n",
       "      <th>0</th>\n",
       "      <td>19</td>\n",
       "      <td>female</td>\n",
       "      <td>27.900</td>\n",
       "      <td>0</td>\n",
       "      <td>yes</td>\n",
       "      <td>southwest</td>\n",
       "      <td>16884.92400</td>\n",
       "    </tr>\n",
       "    <tr>\n",
       "      <th>1</th>\n",
       "      <td>18</td>\n",
       "      <td>male</td>\n",
       "      <td>33.770</td>\n",
       "      <td>1</td>\n",
       "      <td>no</td>\n",
       "      <td>southeast</td>\n",
       "      <td>1725.55230</td>\n",
       "    </tr>\n",
       "    <tr>\n",
       "      <th>2</th>\n",
       "      <td>28</td>\n",
       "      <td>male</td>\n",
       "      <td>33.000</td>\n",
       "      <td>3</td>\n",
       "      <td>no</td>\n",
       "      <td>southeast</td>\n",
       "      <td>4449.46200</td>\n",
       "    </tr>\n",
       "    <tr>\n",
       "      <th>3</th>\n",
       "      <td>33</td>\n",
       "      <td>male</td>\n",
       "      <td>22.705</td>\n",
       "      <td>0</td>\n",
       "      <td>no</td>\n",
       "      <td>northwest</td>\n",
       "      <td>21984.47061</td>\n",
       "    </tr>\n",
       "    <tr>\n",
       "      <th>4</th>\n",
       "      <td>32</td>\n",
       "      <td>male</td>\n",
       "      <td>28.880</td>\n",
       "      <td>0</td>\n",
       "      <td>no</td>\n",
       "      <td>northwest</td>\n",
       "      <td>3866.85520</td>\n",
       "    </tr>\n",
       "  </tbody>\n",
       "</table>\n",
       "</div>"
      ],
      "text/plain": [
       "   age     sex     bmi  children smoker     region      charges\n",
       "0   19  female  27.900         0    yes  southwest  16884.92400\n",
       "1   18    male  33.770         1     no  southeast   1725.55230\n",
       "2   28    male  33.000         3     no  southeast   4449.46200\n",
       "3   33    male  22.705         0     no  northwest  21984.47061\n",
       "4   32    male  28.880         0     no  northwest   3866.85520"
      ]
     },
     "execution_count": 2,
     "metadata": {},
     "output_type": "execute_result"
    }
   ],
   "source": [
    "#loading dataset and extracting independent and dependent variables\n",
    "insurance = pd.read_csv('Downloads/insurance.csv')\n",
    "x = insurance.iloc[:, :-1].values\n",
    "y = insurance.iloc[:, 6].values\n",
    "\n",
    "insurance.head()"
   ]
  },
  {
   "cell_type": "code",
   "execution_count": 3,
   "id": "abc66f9a-14f9-4c30-9a21-9d390e0bfb7a",
   "metadata": {},
   "outputs": [
    {
     "data": {
      "text/plain": [
       "<AxesSubplot:>"
      ]
     },
     "execution_count": 3,
     "metadata": {},
     "output_type": "execute_result"
    },
    {
     "data": {
      "image/png": "[encoded data removed]",
      "text/plain": [
       "<Figure size 432x288 with 2 Axes>"
      ]
     },
     "metadata": {
      "needs_background": "light"
     },
     "output_type": "display_data"
    }
   ],
   "source": [
    "# Visualizing Data\n",
    "# Building a correlation matrix of dataset\n",
    "\n",
    "sns.heatmap(insurance.corr())"
   ]
  },
  {
   "cell_type": "code",
   "execution_count": 4,
   "id": "2cd0f51a-439c-4f0d-abd3-6c98e48a717e",
   "metadata": {},
   "outputs": [],
   "source": [
    "#Encoding categorical data\n",
    "\n",
    "from sklearn.preprocessing import LabelEncoder, OneHotEncoder\n",
    "labelencoder = LabelEncoder()\n",
    "x[:, 5] = labelencoder.fit_transform(x[:, 5])\n",
    "\n",
    "onehotencoder = OneHotEncoder()\n",
    "x = onehotencoder.fit_transform(x).toarray()\n"
   ]
  },
  {
   "cell_type": "code",
   "execution_count": 5,
   "id": "8d2a2c94-884c-4d73-9db4-110a1fad7f3f",
   "metadata": {},
   "outputs": [],
   "source": [
    "#Avoide Dummy Variable Trap\n",
    "x = x[:, 1:]"
   ]
  },
  {
   "cell_type": "code",
   "execution_count": 6,
   "id": "6f34d304-9952-4286-8d78-a98f7acf4fe6",
   "metadata": {
    "tags": []
   },
   "outputs": [],
   "source": [
    "#Splitting dataset into Training and Test set\n",
    "\n",
    "from sklearn.model_selection import train_test_split\n",
    "x_train, x_test, y_train, y_test = train_test_split(x, y, test_size = 0.2, random_state = 0) "
   ]
  },
  {
   "cell_type": "code",
   "execution_count": 7,
   "id": "c21f7e80-23c3-4177-a315-b0388e02a9ef",
   "metadata": {},
   "outputs": [
    {
     "data": {
      "text/plain": [
       "LinearRegression()"
      ]
     },
     "execution_count": 7,
     "metadata": {},
     "output_type": "execute_result"
    }
   ],
   "source": [
    "#Fitting Multiple Linear Regression to the Training Data\n",
    "\n",
    "from sklearn.linear_model import LinearRegression\n",
    "regressor = LinearRegression()\n",
    "regressor.fit(x_train, y_train)"
   ]
  },
  {
   "cell_type": "code",
   "execution_count": 8,
   "id": "7f4018f2-938c-43ae-96b0-d2c9391c51f5",
   "metadata": {
    "collapsed": true,
    "jupyter": {
     "outputs_hidden": true
    },
    "tags": []
   },
   "outputs": [
    {
     "name": "stdout",
     "output_type": "stream",
     "text": [
      "[ 1.34400000e+04  1.23896454e+17  3.95520000e+04  1.15200000e+04\n",
      "  5.65914106e+17  4.86400000e+03  2.68800000e+03  1.54880000e+04\n",
      "  7.80800000e+03  3.84000000e+03  1.63121513e+17  1.83040000e+04\n",
      "  6.01600000e+03  5.50400000e+03  2.90560000e+04 -1.79097134e+17\n",
      "  1.26720000e+04  1.70240000e+04  5.12000000e+03 -1.78214172e+17\n",
      "  2.59840000e+04  2.26560000e+04  8.70400000e+03  1.31532619e+17\n",
      "  4.47310582e+16  5.12000000e+02 -8.83200000e+03  8.32000000e+03\n",
      "  4.35200000e+03  1.42080000e+04  1.40800000e+03  3.84000000e+04\n",
      "  1.60000000e+04  1.79840634e+16 -2.72977259e+16  5.50400000e+03\n",
      "  1.65120000e+04  5.98318852e+16  3.32800000e+04 -3.58400000e+03\n",
      "  8.57600000e+03 -5.76000000e+03  2.57280000e+04  3.94240000e+04\n",
      "  2.50880000e+04  2.81600000e+03  1.31532619e+17  5.50400000e+03\n",
      "  2.57590905e+17  5.24800000e+03  7.76140919e+16  4.60800000e+03\n",
      "  3.78880000e+04  3.22560000e+04  1.02400000e+04  2.53215180e+17\n",
      " -5.46939490e+16  1.13920000e+04  6.24042943e+17  1.43360000e+04\n",
      "  1.66400000e+03  3.36640000e+04  1.94560000e+04  1.62560000e+04\n",
      "  1.38240000e+04  6.52800000e+03  2.41920000e+04  3.03360000e+04\n",
      " -9.00549426e+17  6.14400000e+03  1.86571255e+17  3.71200000e+03\n",
      " -3.15936473e+17  1.29280000e+04  9.08800000e+03  1.57440000e+04\n",
      "  7.55200000e+03 -3.21946873e+16  3.12320000e+04  4.05760000e+04\n",
      "  1.08800000e+04 -9.18011044e+14  4.48000000e+03  1.28000000e+04\n",
      "  3.44320000e+04  2.81600000e+04  3.96800000e+03  2.17600000e+03\n",
      "  1.60000000e+04  3.08480000e+04  1.00273059e+16  1.12640000e+04\n",
      "  3.96800000e+03  1.31532619e+17  1.38609400e+17  4.99200000e+03\n",
      " -1.78214172e+17  3.62240000e+04  1.15200000e+04 -9.18011044e+14\n",
      "  1.60000000e+04  1.61280000e+04  1.16480000e+04  2.86720000e+04\n",
      "  2.49600000e+04  6.27200000e+03 -8.99598401e+15  3.58400000e+03\n",
      "  7.76140919e+16  4.07040000e+04  1.42080000e+04  9.34400000e+03\n",
      "  6.52800000e+03  3.26400000e+04  3.18720000e+04  6.52800000e+03\n",
      "  1.71632226e+17  9.34400000e+03  1.25440000e+04  6.52800000e+03\n",
      "  2.91840000e+04  9.47200000e+03 -2.75715228e+16  4.09600000e+03\n",
      "  1.10080000e+04  6.40000000e+02  3.39200000e+04  3.18720000e+04\n",
      " -9.18312821e+14  1.39520000e+04  3.20000000e+03  4.47310582e+16\n",
      " -3.21946873e+16  6.40000000e+02  2.34240000e+04  2.86720000e+04\n",
      " -1.76122019e+16 -1.77913575e+16 -2.27725885e+17  4.22400000e+03\n",
      "  1.92000000e+03  1.01120000e+04 -7.37585956e+15  1.72800000e+04\n",
      "  1.28000000e+02  1.71520000e+04  1.29414248e+17  6.40000000e+03\n",
      "  8.96000000e+02  1.40800000e+04  1.11360000e+04  2.61120000e+04\n",
      "  1.06240000e+04  3.07200000e+03 -8.48294151e+16 -2.81600000e+03\n",
      "  1.01120000e+04  1.23896454e+17  9.60000000e+03  8.32000000e+03\n",
      " -1.64496311e+16 -9.18011044e+14  9.85600000e+03 -2.75715228e+16\n",
      " -2.72977259e+16  1.56160000e+04 -4.01823502e+16  9.47200000e+03\n",
      "  1.40800000e+03 -8.96000000e+02  1.06240000e+04  4.48000000e+03\n",
      " -1.78214172e+17  1.04960000e+04  7.68000000e+03  5.37600000e+03\n",
      "  8.83200000e+03 -2.68800000e+03  3.48160000e+04  8.96000000e+02\n",
      "  2.06080000e+04  5.24800000e+03 -2.61987569e+17  5.88800000e+03\n",
      "  1.66400000e+03  3.20000000e+04  1.26720000e+04  2.94400000e+03\n",
      "  1.71520000e+04  1.76640000e+04  3.64800000e+04  4.86400000e+03\n",
      "  7.93600000e+03  2.80320000e+04  1.28000000e+02  5.50400000e+03\n",
      "  7.04000000e+03  5.39955691e+16  4.48000000e+03  9.98400000e+03\n",
      "  1.66400000e+04  4.45440000e+04  1.77920000e+04  2.93120000e+04\n",
      "  1.28000000e+04  3.25120000e+04  5.24800000e+03  1.35680000e+04\n",
      "  1.22880000e+04 -9.18011044e+14  9.85600000e+03  2.06080000e+04\n",
      "  6.40000000e+03  6.40000000e+03 -4.36371960e+17  2.43200000e+03\n",
      "  9.34400000e+03  8.19200000e+03  1.31532619e+17 -3.96800000e+03\n",
      "  6.52800000e+03  2.15374115e+17  6.91200000e+03 -8.96000000e+02\n",
      "  1.75360000e+04 -1.48055972e+17 -7.37585956e+15  7.41227570e+16\n",
      " -2.17550036e+17 -8.96000000e+02 -2.17600000e+03 -1.47135459e+17\n",
      "  1.62560000e+04  1.20320000e+04  2.94123410e+17  8.06400000e+03\n",
      "  9.60000000e+03  2.86720000e+04 -8.96000000e+02  1.57440000e+04\n",
      "  1.35680000e+04  2.27840000e+04  6.40000000e+03  9.08800000e+03\n",
      "  8.06400000e+03  1.60000000e+04  2.68800000e+03  1.28000000e+03\n",
      "  4.73600000e+03 -1.21730351e+17  1.59737357e+17  3.86560000e+04\n",
      "  9.08800000e+03 -1.28000000e+03 -2.49657625e+15 -1.08800000e+04\n",
      "  5.37600000e+03  1.66400000e+03  1.15200000e+03  1.04960000e+04\n",
      "  2.40027891e+17  4.82560000e+04  3.34080000e+04  1.74080000e+04\n",
      "  4.99200000e+03  1.11360000e+04  2.86720000e+04  1.92000000e+03]\n"
     ]
    }
   ],
   "source": [
    "# Predicting the Test set results\n",
    "y_pred = regressor.predict(x_test)\n",
    "print(y_pred)"
   ]
  },
  {
   "cell_type": "code",
   "execution_count": 9,
   "id": "65656df1-4629-49ba-8def-ac640a7f4f7e",
   "metadata": {
    "collapsed": true,
    "jupyter": {
     "outputs_hidden": true
    },
    "tags": []
   },
   "outputs": [
    {
     "name": "stdout",
     "output_type": "stream",
     "text": [
      "[ 2.47722413e+03 -2.21085668e+03 -1.72967993e+01  3.31660940e+03\n",
      "  2.95443767e+03  5.41668015e+03 -6.23352739e+02  3.42301571e+03\n",
      "  5.24842416e+03  3.84521779e+03  1.59900125e+03  3.25037263e+03\n",
      "  4.11176612e+03  1.61302040e+02  6.08151868e+03  4.62136509e+03\n",
      "  3.69277685e+03  5.22968023e+03  5.83291794e+03  3.15085709e+03\n",
      "  2.78217072e+03  2.51112351e+03  4.40303617e+03  2.68250800e+03\n",
      "  3.19664398e+03  6.96687072e+03  8.32686610e+03  6.94252223e+03\n",
      "  7.72499249e+03  6.86658992e+03  7.48522327e+03  1.29784563e+04\n",
      "  6.54684160e+03  8.90904708e+03  1.07750797e+04  1.21430240e+04\n",
      "  1.03038094e+04  9.86437402e+03  9.50060571e+03  9.98912358e+03\n",
      "  1.22659841e+04  1.21369926e+04  1.36445607e+04  1.10287447e+04\n",
      "  1.12471480e+04  1.50513156e+04  4.05920211e+17  4.05920211e+17\n",
      "  9.18011044e+14  9.18011044e+14  9.18011044e+14  9.18011044e+14\n",
      "  9.18011044e+14  9.18011044e+14  9.18011044e+14  9.18011044e+14\n",
      "  9.18011044e+14  9.18011044e+14  9.18011044e+14  9.18011044e+14\n",
      "  5.66832117e+17  9.18011044e+14  9.18011044e+14  9.18011044e+14\n",
      "  9.18011044e+14  9.18011044e+14  9.18011044e+14  1.64039524e+17\n",
      "  9.18011044e+14  9.18011044e+14  9.18011044e+14  9.18011044e+14\n",
      "  9.18011044e+14  9.18011044e+14  9.18011044e+14  9.18011044e+14\n",
      "  9.18011044e+14  9.18011044e+14  9.18011044e+14  9.18011044e+14\n",
      "  9.18011044e+14  2.40945902e+17  9.18011044e+14  9.18011044e+14\n",
      " -2.63797148e+16  9.18011044e+14  9.18011044e+14  9.18011044e+14\n",
      "  9.18011044e+14  9.18011044e+14  9.18011044e+14  9.18011044e+14\n",
      "  9.18011044e+14 -2.16632025e+17  9.18011044e+14  9.18011044e+14\n",
      "  9.18011044e+14  9.18011044e+14  9.18011044e+14  9.18011044e+14\n",
      "  9.18011044e+14  9.18011044e+14  9.18011044e+14 -3.92643392e+16\n",
      "  9.18011044e+14  9.18011044e+14  9.18011044e+14  9.18011044e+14\n",
      " -8.99631414e+17  2.58508916e+17  1.72550237e+17  9.18011044e+14\n",
      " -8.07797297e+15  9.18011044e+14  9.18011044e+14  9.18011044e+14\n",
      "  9.18011044e+14  9.18011044e+14  9.18011044e+14  9.18011044e+14\n",
      "  9.18011044e+14  9.18011044e+14  9.18011044e+14  9.18011044e+14\n",
      " -2.26807874e+17  9.18011044e+14  9.18011044e+14  9.18011044e+14\n",
      "  9.18011044e+14  9.18011044e+14  9.18011044e+14  9.18011044e+14\n",
      "  9.18011044e+14  2.16292126e+17  9.18011044e+14  9.18011044e+14\n",
      "  9.18011044e+14  9.18011044e+14  9.18011044e+14 -1.68733464e+16\n",
      "  9.18011044e+14  9.18011044e+14  2.95041421e+17  9.18011044e+14\n",
      "  9.18011044e+14  9.18011044e+14  9.18011044e+14  9.18011044e+14\n",
      "  9.18011044e+14  9.18011044e+14  9.18011044e+14 -1.20812340e+17\n",
      "  9.18011044e+14  9.18011044e+14  9.18011044e+14  9.18011044e+14\n",
      "  9.18011044e+14  9.18011044e+14  9.18011044e+14  9.18011044e+14\n",
      "  9.18011044e+14  9.18011044e+14  9.18011044e+14  9.18011044e+14\n",
      "  9.18011044e+14  9.18011044e+14  9.18011044e+14  9.18011044e+14\n",
      " -1.66941909e+16  9.18011044e+14  9.18011044e+14  9.18011044e+14\n",
      "  9.18011044e+14  9.18011044e+14  9.18011044e+14  9.18011044e+14\n",
      "  9.18011044e+14  9.18011044e+14  9.18011044e+14  9.18011044e+14\n",
      "  7.50407680e+16  9.18011044e+14  9.18011044e+14  9.18011044e+14\n",
      "  9.18011044e+14  9.18011044e+14  9.18011044e+14  6.24960954e+17\n",
      "  9.18011044e+14  9.18011044e+14  9.18011044e+14  9.18011044e+14\n",
      "  9.18011044e+14  9.18011044e+14  9.18011044e+14  9.18011044e+14\n",
      "  9.18011044e+14  9.18011044e+14  9.18011044e+14  9.18011044e+14\n",
      "  9.18011044e+14  9.18011044e+14  9.18011044e+14  9.18011044e+14\n",
      "  9.18011044e+14  9.18011044e+14  9.18011044e+14  9.18011044e+14\n",
      "  9.18011044e+14  9.18011044e+14  9.18011044e+14  9.18011044e+14\n",
      "  9.18011044e+14  9.18011044e+14  9.18011044e+14  9.18011044e+14\n",
      "  9.18011044e+14  9.18011044e+14  9.18011044e+14  9.18011044e+14\n",
      "  9.18011044e+14  9.18011044e+14  9.18011044e+14  9.18011044e+14\n",
      "  9.18011044e+14  9.18011044e+14  9.18011044e+14  9.18011044e+14\n",
      "  9.18011044e+14  9.18011044e+14 -3.15018462e+17  9.18011044e+14\n",
      "  9.18011044e+14  9.18011044e+14  9.18011044e+14  9.18011044e+14\n",
      "  9.18011044e+14  9.18011044e+14  9.18011044e+14  9.18011044e+14\n",
      "  9.18011044e+14  9.18011044e+14  9.18011044e+14  1.32450630e+17\n",
      "  9.18011044e+14  9.18011044e+14  9.18011044e+14  9.18011044e+14\n",
      "  9.18011044e+14  9.18011044e+14  9.18011044e+14  9.18011044e+14\n",
      "  9.18011044e+14 -1.78179123e+17  1.87489266e+17  9.18011044e+14\n",
      "  9.18011044e+14  9.18011044e+14  9.18011044e+14  1.60655368e+17\n",
      "  9.18011044e+14  9.18011044e+14  9.18011044e+14  9.18011044e+14\n",
      "  9.18011044e+14  9.18011044e+14  9.18011044e+14  9.18011044e+14\n",
      "  9.18011044e+14 -4.35453949e+17  9.18011044e+14  9.18011044e+14\n",
      "  9.18011044e+14  9.18011044e+14  9.18011044e+14  9.18011044e+14\n",
      "  9.18011044e+14  9.18011044e+14  9.18011044e+14  9.18011044e+14\n",
      " -1.57856521e+15  9.18011044e+14  9.18011044e+14  9.18011044e+14\n",
      "  9.18011044e+14  1.24814465e+17  9.18011044e+14  9.18011044e+14\n",
      "  9.18011044e+14  9.18011044e+14  9.18011044e+14  9.18011044e+14\n",
      "  9.18011044e+14  9.18011044e+14  9.18011044e+14  9.18011044e+14\n",
      "  9.18011044e+14  9.18011044e+14  9.18011044e+14  9.18011044e+14\n",
      "  9.18011044e+14  9.18011044e+14  9.18011044e+14  9.18011044e+14\n",
      "  9.18011044e+14  9.18011044e+14  9.18011044e+14  9.18011044e+14\n",
      "  9.18011044e+14  9.18011044e+14  9.18011044e+14  9.18011044e+14\n",
      "  9.18011044e+14  9.18011044e+14  9.18011044e+14  9.18011044e+14\n",
      "  9.18011044e+14  9.18011044e+14 -1.77296161e+17 -3.12766763e+16\n",
      "  9.18011044e+14  9.18011044e+14  9.18011044e+14  9.18011044e+14\n",
      "  9.18011044e+14  9.18011044e+14  9.18011044e+14  9.18011044e+14\n",
      "  9.18011044e+14  9.18011044e+14  9.18011044e+14  9.18011044e+14\n",
      "  9.18011044e+14  9.18011044e+14  9.18011044e+14  9.18011044e+14\n",
      "  9.18011044e+14  9.18011044e+14  9.18011044e+14  9.18011044e+14\n",
      "  9.18011044e+14  9.18011044e+14  9.18011044e+14  9.18011044e+14\n",
      "  9.18011044e+14  9.18011044e+14  9.18011044e+14  9.18011044e+14\n",
      "  9.18011044e+14  9.18011044e+14  9.18011044e+14  9.18011044e+14\n",
      "  9.18011044e+14  9.18011044e+14  9.18011044e+14  9.18011044e+14\n",
      "  9.18011044e+14  9.18011044e+14  9.18011044e+14  9.18011044e+14\n",
      "  9.18011044e+14  9.18011044e+14  9.18011044e+14  9.18011044e+14\n",
      "  9.18011044e+14  9.18011044e+14  9.18011044e+14  9.18011044e+14\n",
      " -1.55316201e+16  9.18011044e+14  9.18011044e+14  9.18011044e+14\n",
      "  9.18011044e+14  9.18011044e+14  9.18011044e+14  9.18011044e+14\n",
      "  9.18011044e+14  9.18011044e+14  9.18011044e+14  9.18011044e+14\n",
      "  9.18011044e+14  9.18011044e+14  9.18011044e+14  9.18011044e+14\n",
      "  9.18011044e+14  9.18011044e+14  9.18011044e+14  9.18011044e+14\n",
      "  9.18011044e+14  9.18011044e+14  9.18011044e+14  9.18011044e+14\n",
      "  9.18011044e+14  9.18011044e+14  9.18011044e+14  9.18011044e+14\n",
      "  9.18011044e+14  9.18011044e+14  4.56490692e+16  9.18011044e+14\n",
      "  9.18011044e+14  9.18011044e+14  9.18011044e+14  9.18011044e+14\n",
      " -2.61069558e+17  9.18011044e+14  9.18011044e+14  9.18011044e+14\n",
      "  9.18011044e+14  9.18011044e+14  9.18011044e+14  9.18011044e+14\n",
      "  9.18011044e+14  9.18011044e+14  9.18011044e+14  9.18011044e+14\n",
      "  9.18011044e+14  9.18011044e+14  9.18011044e+14  1.39527411e+17\n",
      "  9.18011044e+14  9.18011044e+14  9.18011044e+14  7.85321030e+16\n",
      "  9.18011044e+14  9.18011044e+14  9.18011044e+14  9.18011044e+14\n",
      "  9.18011044e+14  9.18011044e+14  9.18011044e+14  9.18011044e+14\n",
      "  9.18011044e+14  9.18011044e+14  9.18011044e+14 -5.37759380e+16\n",
      "  2.54133191e+17  9.18011044e+14  9.18011044e+14  9.18011044e+14\n",
      "  9.18011044e+14  9.18011044e+14  9.18011044e+14  9.18011044e+14\n",
      "  9.18011044e+14  9.18011044e+14  9.18011044e+14  9.18011044e+14\n",
      "  9.18011044e+14  9.18011044e+14  9.18011044e+14  9.18011044e+14\n",
      "  9.18011044e+14  9.18011044e+14  9.18011044e+14  9.18011044e+14\n",
      "  9.18011044e+14  9.18011044e+14  5.49135801e+16  9.18011044e+14\n",
      "  9.18011044e+14  6.07498963e+16  9.18011044e+14  1.30332259e+17\n",
      "  9.18011044e+14  9.18011044e+14  9.18011044e+14  9.18011044e+14\n",
      "  9.18011044e+14  9.18011044e+14  9.18011044e+14  9.18011044e+14\n",
      "  9.18011044e+14  9.18011044e+14  9.18011044e+14  9.18011044e+14\n",
      "  9.18011044e+14  9.18011044e+14  1.09453169e+16  9.18011044e+14\n",
      "  9.18011044e+14  1.89020744e+16  9.18011044e+14  9.18011044e+14\n",
      "  9.18011044e+14 -6.45784851e+15  9.18011044e+14  9.18011044e+14\n",
      "  9.18011044e+14  9.18011044e+14  9.18011044e+14  9.18011044e+14\n",
      "  9.18011044e+14 -1.47137961e+17  9.18011044e+14  9.18011044e+14\n",
      "  9.18011044e+14  9.18011044e+14  9.18011044e+14  9.18011044e+14\n",
      "  9.18011044e+14  9.18011044e+14  9.18011044e+14  9.18011044e+14\n",
      "  9.18011044e+14  9.18011044e+14  9.18011044e+14  9.18011044e+14\n",
      "  9.18011044e+14  9.18011044e+14  9.18011044e+14  9.18011044e+14\n",
      "  9.18011044e+14  9.18011044e+14  9.18011044e+14  9.18011044e+14\n",
      "  9.18011044e+14 -1.46217448e+17  9.18011044e+14  9.18011044e+14\n",
      "  9.18011044e+14  9.18011044e+14 -8.39114040e+16 -2.66535117e+16\n",
      "  9.18011044e+14  9.18011044e+14  9.18011044e+14  9.18011044e+14\n",
      " -3.01776881e+11  1.28000000e+02  9.18011044e+14  9.18011044e+14\n",
      "  9.18011044e+14  9.18011044e+14  9.18011044e+14 -4.37694325e-12\n",
      "  9.18011044e+14  9.18011044e+14  9.18011044e+14  9.18011044e+14\n",
      "  9.18011044e+14  9.18011044e+14  9.18011044e+14  9.18011044e+14\n",
      "  9.18011044e+14  9.18011044e+14  9.18011044e+14  9.18011044e+14\n",
      "  9.18011044e+14  9.18011044e+14  9.18011044e+14  9.18011044e+14\n",
      "  9.18011044e+14  9.18011044e+14  9.18011044e+14  9.18011044e+14\n",
      "  9.18011044e+14  9.18011044e+14  9.18011044e+14  9.18011044e+14\n",
      "  9.18011044e+14  9.18011044e+14  9.18011044e+14  9.18011044e+14\n",
      "  9.18011044e+14  9.18011044e+14  0.00000000e+00  9.18011044e+14\n",
      "  9.18011044e+14  9.18011044e+14  9.18011044e+14  9.18011044e+14\n",
      "  9.18011044e+14  9.18011044e+14  9.18011044e+14  9.18011044e+14\n",
      "  9.18011044e+14  9.18011044e+14  9.18011044e+14  9.18011044e+14\n",
      "  9.18011044e+14  9.18011044e+14  9.18011044e+14  1.81898940e-12\n",
      "  9.18011044e+14  9.18011044e+14  9.18011044e+14  9.18011044e+14\n",
      "  9.18011044e+14  9.18011044e+14  9.18011044e+14  9.18011044e+14\n",
      "  9.18011044e+14  9.18011044e+14  9.18011044e+14  9.18011044e+14\n",
      "  3.10629320e+16  3.10629320e+16  3.10629320e+16  3.10629320e+16\n",
      "  3.10629320e+16  3.10629320e+16 -7.72184552e+16 -7.72184552e+16\n",
      "  2.79837915e+17  2.79837915e+17  2.79837915e+17  2.79837915e+17]\n"
     ]
    }
   ],
   "source": [
    "# Calculating Coefficients\n",
    "print(regressor.coef_)"
   ]
  },
  {
   "cell_type": "code",
   "execution_count": 10,
   "id": "c351594c-db7a-4483-ac16-8afee0f043e5",
   "metadata": {},
   "outputs": [
    {
     "name": "stdout",
     "output_type": "stream",
     "text": [
      "-6.405206139008119e+17\n"
     ]
    }
   ],
   "source": [
    "#Calculating Intercept\n",
    "print(regressor.intercept_)"
   ]
  },
  {
   "cell_type": "code",
   "execution_count": 11,
   "id": "9042e408-469a-49cc-be1e-f930de0ead0b",
   "metadata": {},
   "outputs": [
    {
     "data": {
      "text/plain": [
       "-6.52841967718707e+25"
      ]
     },
     "execution_count": 11,
     "metadata": {},
     "output_type": "execute_result"
    }
   ],
   "source": [
    "#Evaluating Model by calculating R Squared value\n",
    "\n",
    "from sklearn.metrics import r2_score\n",
    "r2_score(y_test, y_pred)"
   ]
  },
  {
   "cell_type": "code",
   "execution_count": 12,
   "id": "d8e39799-2fab-4b6a-8c1c-7890083690b5",
   "metadata": {},
   "outputs": [],
   "source": [
    "y_test_mean = np.full(len(y_test), y_test.mean())"
   ]
  },
  {
   "cell_type": "code",
   "execution_count": 13,
   "id": "b8d9fdee-6711-4d10-b162-cc63350a65e0",
   "metadata": {},
   "outputs": [
    {
     "data": {
      "text/plain": [
       "13546.866383690298"
      ]
     },
     "execution_count": 13,
     "metadata": {},
     "output_type": "execute_result"
    }
   ],
   "source": [
    "y_test.mean()"
   ]
  },
  {
   "cell_type": "code",
   "execution_count": 14,
   "id": "097c6fe9-4760-475e-8144-793a401de489",
   "metadata": {},
   "outputs": [
    {
     "data": {
      "text/plain": [
       "0.0"
      ]
     },
     "execution_count": 14,
     "metadata": {},
     "output_type": "execute_result"
    }
   ],
   "source": [
    "r2_score(y_test, y_test_mean)"
   ]
  },
  {
   "cell_type": "code",
   "execution_count": 15,
   "id": "2971407a-2f37-45fd-86f0-7dcbc4484b5d",
   "metadata": {},
   "outputs": [
    {
     "data": {
      "text/plain": [
       "1.0"
      ]
     },
     "execution_count": 15,
     "metadata": {},
     "output_type": "execute_result"
    }
   ],
   "source": [
    "r2_score(y_test, y_test)"
   ]
  },
  {
   "cell_type": "code",
   "execution_count": 16,
   "id": "8419b797-8394-488c-8bc2-9ddb26304121",
   "metadata": {},
   "outputs": [
    {
     "data": {
      "text/plain": [
       "-0.0006696755854334047"
      ]
     },
     "execution_count": 16,
     "metadata": {},
     "output_type": "execute_result"
    }
   ],
   "source": [
    "r2_score(y_pred, y_test)"
   ]
  },
  {
   "cell_type": "code",
   "execution_count": 17,
   "id": "c3754187-ed6e-4adc-87c1-9683d69e0e54",
   "metadata": {},
   "outputs": [
    {
     "data": {
      "text/plain": [
       "-6.52841967718707e+25"
      ]
     },
     "execution_count": 17,
     "metadata": {},
     "output_type": "execute_result"
    }
   ],
   "source": [
    "r2_score(y_test, y_pred)"
   ]
  },
  {
   "cell_type": "code",
   "execution_count": 18,
   "id": "1b4ec5e6-f5fd-4edb-802e-52852a102162",
   "metadata": {},
   "outputs": [
    {
     "data": {
      "text/plain": [
       "3.1944977644975764e+16"
      ]
     },
     "execution_count": 18,
     "metadata": {},
     "output_type": "execute_result"
    }
   ],
   "source": [
    "# Mean Absolute Error\n",
    "\n",
    "from sklearn.metrics import mean_absolute_error\n",
    "mae = mean_absolute_error(y_test, y_pred)\n",
    "mae"
   ]
  },
  {
   "cell_type": "code",
   "execution_count": 19,
   "id": "54926f06-ceb3-40ea-83aa-1b80df1c98dd",
   "metadata": {},
   "outputs": [
    {
     "data": {
      "text/plain": [
       "1.038867177253802e+34"
      ]
     },
     "execution_count": 19,
     "metadata": {},
     "output_type": "execute_result"
    }
   ],
   "source": [
    "# Mean squared Error\n",
    "\n",
    "from sklearn.metrics import mean_squared_error\n",
    "import math\n",
    "\n",
    "mse = mean_squared_error(y_test, y_pred)\n",
    "mse"
   ]
  },
  {
   "cell_type": "code",
   "execution_count": 20,
   "id": "c1135849-49cb-4961-b40d-8d33db65ebc2",
   "metadata": {},
   "outputs": [
    {
     "data": {
      "text/plain": [
       "1.0192483393431662e+17"
      ]
     },
     "execution_count": 20,
     "metadata": {},
     "output_type": "execute_result"
    }
   ],
   "source": [
    "# Root Mean Squared Error\n",
    "import math \n",
    "rmse = math.sqrt(mse)\n",
    "rmse"
   ]
  }
 ],
 "metadata": {
  "kernelspec": {
   "display_name": "Python 3 (ipykernel)",
   "language": "python",
   "name": "python3"
  },
  "language_info": {
   "codemirror_mode": {
    "name": "ipython",
    "version": 3
   },
   "file_extension": ".py",
   "mimetype": "text/x-python",
   "name": "python",
   "nbconvert_exporter": "python",
   "pygments_lexer": "ipython3",
   "version": "3.9.12"
  }
 },
 "nbformat": 4,
 "nbformat_minor": 5
}
